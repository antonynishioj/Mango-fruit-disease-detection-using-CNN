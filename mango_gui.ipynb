{
 "cells": [
  {
   "cell_type": "code",
   "execution_count": null,
   "id": "bc2da480-2c0c-4ea9-8c95-77bc1bc128fc",
   "metadata": {},
   "outputs": [
    {
     "name": "stdout",
     "output_type": "stream",
     "text": [
      "Running on local URL:  http://127.0.0.1:7860\n",
      "\n",
      "To create a public link, set `share=True` in `launch()`.\n"
     ]
    },
    {
     "data": {
      "text/html": [
       "<div><iframe src=\"http://127.0.0.1:7860/\" width=\"100%\" height=\"500\" allow=\"autoplay; camera; microphone; clipboard-read; clipboard-write;\" frameborder=\"0\" allowfullscreen></iframe></div>"
      ],
      "text/plain": [
       "<IPython.core.display.HTML object>"
      ]
     },
     "metadata": {},
     "output_type": "display_data"
    },
    {
     "name": "stdout",
     "output_type": "stream",
     "text": [
      "1/1 [==============================] - 0s 334ms/step\n"
     ]
    }
   ],
   "source": [
    "import numpy as np\n",
    "from tensorflow.keras.models import load_model\n",
    "from tensorflow.keras.preprocessing import image\n",
    "import gradio as gr\n",
    "def get_mango_prediction(img_file):\n",
    "    model_path='mango.h5'\n",
    "    # Load the saved model\n",
    "    model = load_model(model_path)\n",
    "\n",
    "    # Load and preprocess the input image\n",
    "    img = image.load_img(img_file, target_size=(150, 150))\n",
    "    img_array = image.img_to_array(img)\n",
    "    img_array = np.expand_dims(img_array, axis=0) / 255\n",
    "\n",
    "    # Make prediction\n",
    "    prediction = model.predict(img_array)\n",
    "    \n",
    "    # Get the predicted class label\n",
    "    class_names = ['Alternaria','Anthracnose', 'Healthy', 'Stem end Rot' ]\n",
    "    predicted_class_index = np.argmax(prediction)\n",
    "    predicted_class = class_names[predicted_class_index]\n",
    "    \n",
    "    # Get the confidence score for the predicted class\n",
    "    confidence_score = prediction[0][predicted_class_index]\n",
    "    \n",
    "    return predicted_class, confidence_score\n",
    "\n",
    "def run_g(img_file):\n",
    "    output = get_mango_prediction(img_file)\n",
    "    return output\n",
    "gr.Interface(fn = run_g, inputs = gr.components.Image(type = 'filepath',label=\"Upload Image\"), outputs = [\"text\",\"text\"],title=\"Mango Fruit Classification \").launch(debug='True')"
   ]
  },
  {
   "cell_type": "code",
   "execution_count": null,
   "id": "340589d5-3f93-4dd9-88ff-5f8488a1ca48",
   "metadata": {},
   "outputs": [],
   "source": []
  }
 ],
 "metadata": {
  "kernelspec": {
   "display_name": "Python 3 (ipykernel)",
   "language": "python",
   "name": "python3"
  },
  "language_info": {
   "codemirror_mode": {
    "name": "ipython",
    "version": 3
   },
   "file_extension": ".py",
   "mimetype": "text/x-python",
   "name": "python",
   "nbconvert_exporter": "python",
   "pygments_lexer": "ipython3",
   "version": "3.11.7"
  }
 },
 "nbformat": 4,
 "nbformat_minor": 5
}
